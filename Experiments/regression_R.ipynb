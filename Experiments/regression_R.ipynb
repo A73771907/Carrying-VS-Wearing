{
 "cells": [
  {
   "cell_type": "code",
   "execution_count": 4,
   "metadata": {
    "vscode": {
     "languageId": "r"
    }
   },
   "outputs": [
    {
     "name": "stderr",
     "output_type": "stream",
     "text": [
      "Installing package into ‘/usr/local/lib/R/site-library’\n",
      "(as ‘lib’ is unspecified)\n",
      "\n",
      "Installing package into ‘/usr/local/lib/R/site-library’\n",
      "(as ‘lib’ is unspecified)\n",
      "\n",
      "Warning message:\n",
      "“package ‘MuMIn’ is not available for this version of R\n",
      "‘MuMIn’ version 1.47.1 is in the repositories but depends on R (>= 4.2.0)\n",
      "\n",
      "A version of this package for your version of R might be available elsewhere,\n",
      "see the ideas at\n",
      "https://cran.r-project.org/doc/manuals/r-patched/R-admin.html#Installing-packages”\n"
     ]
    }
   ],
   "source": [
    "install.packages('nlme')\n",
    "install.packages('MuMIn')"
   ]
  },
  {
   "cell_type": "code",
   "execution_count": 5,
   "metadata": {
    "vscode": {
     "languageId": "r"
    }
   },
   "outputs": [],
   "source": [
    "library(nlme)\n",
    "library(MuMIn)"
   ]
  },
  {
   "cell_type": "markdown",
   "metadata": {},
   "source": [
    "### Compare Random Intercept and Fixed Intercept including Daily Factor"
   ]
  },
  {
   "cell_type": "code",
   "execution_count": 7,
   "metadata": {
    "vscode": {
     "languageId": "r"
    }
   },
   "outputs": [
    {
     "name": "stdout",
     "output_type": "stream",
     "text": [
      "\n",
      " BOTH \n",
      "\n",
      "RANDOM EFFECT\n",
      "AIC: -1272.555 BIC: -1191.962 LL: 649.2774\n",
      "Fixed EFFECT\n",
      "AIC: -904.7308 BIC: -830.3372 LL: 464.3654[1]           NA 2.044216e-82\n",
      "\n",
      " WEARABLE_ONLY \n",
      "\n",
      "RANDOM EFFECT\n",
      "AIC: -3193.01 BIC: -3112.417 LL: 1609.505\n",
      "Fixed EFFECT\n",
      "AIC: -2465.654 BIC: -2391.261 LL: 1244.827[1]            NA 1.237033e-160\n",
      "\n",
      " PHONE_ONLY \n",
      "\n",
      "RANDOM EFFECT\n",
      "AIC: -2969.277 BIC: -2888.684 LL: 1497.639\n",
      "Fixed EFFECT\n",
      "AIC: -2754.208 BIC: -2679.815 LL: 1389.104[1]          NA 3.94201e-49\n"
     ]
    }
   ],
   "source": [
    "df = read.csv(\n",
    "  \"regression.csv\",\n",
    "  header = TRUE,\n",
    ")\n",
    "daily_factors = list(\"DAILY_STEP\", \"factor(WEEKEND)\",\"factor(CLUSTER)\", \"N_BOUT\", \"AVG_BOUT\", \"SD_BOUT\")\n",
    "individual_factors = list(\"OVERALL_PHONE_ONLY\", \"OVERALL_WEARABLE_ONLY\", \"AVG_DAILY_STEP\", \"SD_DAILY_STEP\",\"factor(GENDER)\", \"AGE\")\n",
    "for(col in list(\"BOTH\", \"WEARABLE_ONLY\", \"PHONE_ONLY\")){\n",
    "  cat(\"\\n\",col,\"\\n\")\n",
    "  RandomDailyModel<-lme(\n",
    "    as.formula(paste(col, paste(daily_factors, collapse=\" + \"), sep=\" ~ \")),\n",
    "    method=\"ML\",\n",
    "    data = df,\n",
    "    random = ~1|UID\n",
    "  )\n",
    "  cat(\"\\nRANDOM EFFECT\\n\")\n",
    "  cat(\"AIC:\",AIC(RandomDailyModel),\"BIC:\", BIC(RandomDailyModel),  \"LL:\",RandomDailyModel$logLik, fill = FALSE)\n",
    "\n",
    "  FixedDailyModel<-gls(\n",
    "    as.formula(paste(col, paste(daily_factors, collapse=\" + \"), sep=\" ~ \")), \n",
    "    method=\"ML\",\n",
    "    data = df,\n",
    "  )\n",
    "\n",
    "  cat(\"\\nFixed EFFECT\\n\")\n",
    "  cat(\"AIC:\",AIC(FixedDailyModel),\"BIC:\", BIC(FixedDailyModel),  \"LL:\",FixedDailyModel$logLik, fill = FALSE)\n",
    "\n",
    "  print(anova(FixedDailyModel, RandomDailyModel)$p)\n",
    "}\n",
    "\n"
   ]
  },
  {
   "cell_type": "code",
   "execution_count": null,
   "metadata": {
    "vscode": {
     "languageId": "r"
    }
   },
   "outputs": [
    {
     "name": "stdout",
     "output_type": "stream",
     "text": [
      "\n",
      " BOTH \n",
      "\n",
      "RANDOM EFFECT\n",
      "AIC: 1189.803 BIC: 1245.599 LL: -585.9017\n",
      "Fixed EFFECT\n",
      "AIC: 1194.336 BIC: 1243.932 LL: -589.1682[1]         NA 0.01058944\n",
      "\n",
      " WEARABLE_ONLY \n",
      "\n",
      "RANDOM EFFECT\n",
      "AIC: -2872.68 BIC: -2816.885 LL: 1445.34\n",
      "Fixed EFFECT\n",
      "AIC: -2829.914 BIC: -2780.318 LL: 1422.957[1]           NA 2.219949e-11\n",
      "\n",
      " PHONE_ONLY \n",
      "\n",
      "RANDOM EFFECT\n",
      "AIC: 1026.68 BIC: 1082.476 LL: -504.3402\n",
      "Fixed EFFECT\n",
      "AIC: 1060.732 BIC: 1110.328 LL: -522.3659[1]           NA 1.921713e-09\n"
     ]
    }
   ],
   "source": [
    "for(col in list(\"BOTH\", \"WEARABLE_ONLY\", \"PHONE_ONLY\")){\n",
    "  cat(\"\\n\",col,\"\\n\")\n",
    "  RandomIndividualModel<-lme(\n",
    "    as.formula(paste(col, paste(individual_factors, collapse=\" + \"), sep=\" ~ \")),\n",
    "    method=\"ML\",\n",
    "    data = df,\n",
    "    random = ~1|UID\n",
    "  )\n",
    "  cat(\"\\nRANDOM EFFECT\\n\")\n",
    "  cat(\"AIC:\",AIC(RandomIndividualModel),\"BIC:\", BIC(RandomIndividualModel),  \"LL:\",RandomIndividualModel$logLik, fill = FALSE)\n",
    "\n",
    "  FixedIndividualModel<-gls(\n",
    "    as.formula(paste(col, paste(individual_factors, collapse=\" + \"), sep=\" ~ \")), \n",
    "    method=\"ML\",\n",
    "    data = df,\n",
    "  )\n",
    "\n",
    "  cat(\"\\nFixed EFFECT\\n\")\n",
    "  cat(\"AIC:\",AIC(FixedIndividualModel),\"BIC:\", BIC(FixedIndividualModel),  \"LL:\",FixedIndividualModel$logLik, fill = FALSE)\n",
    "\n",
    "  print(anova(FixedIndividualModel, RandomIndividualModel)$p)\n",
    "}\n",
    "\n"
   ]
  },
  {
   "cell_type": "code",
   "execution_count": 8,
   "metadata": {
    "vscode": {
     "languageId": "r"
    }
   },
   "outputs": [
    {
     "name": "stdout",
     "output_type": "stream",
     "text": [
      "\n",
      " BOTH \n",
      "\n",
      "RANDOM EFFECT\n",
      "AIC: -1272.555 BIC: -1191.962 LL: 649.2774\n",
      "Fixed EFFECT\n",
      "AIC: -904.7308 BIC: -830.3372 LL: 464.3654[1]           NA 2.044216e-82\n"
     ]
    },
    {
     "name": "stderr",
     "output_type": "stream",
     "text": [
      "Warning message:\n",
      "“'r.squaredGLMM' now calculates a revised statistic. See the help page.”\n"
     ]
    },
    {
     "name": "stdout",
     "output_type": "stream",
     "text": [
      "           R2m       R2c\n",
      "[1,] 0.5918498 0.6565478\n",
      "\n",
      " WEARABLE_ONLY \n",
      "\n",
      "RANDOM EFFECT\n",
      "AIC: -3193.01 BIC: -3112.417 LL: 1609.505\n",
      "Fixed EFFECT\n",
      "AIC: -2465.654 BIC: -2391.261 LL: 1244.827[1]            NA 1.237033e-160\n",
      "          R2m       R2c\n",
      "[1,] 0.189828 0.3972724\n",
      "\n",
      " PHONE_ONLY \n",
      "\n",
      "RANDOM EFFECT\n",
      "AIC: -2969.277 BIC: -2888.684 LL: 1497.639\n",
      "Fixed EFFECT\n",
      "AIC: -2754.208 BIC: -2679.815 LL: 1389.104[1]          NA 3.94201e-49\n",
      "           R2m       R2c\n",
      "[1,] 0.7632092 0.7904189\n"
     ]
    }
   ],
   "source": [
    "for(col in list(\"BOTH\", \"WEARABLE_ONLY\", \"PHONE_ONLY\")){\n",
    "  cat(\"\\n\",col,\"\\n\")\n",
    "  RandomDailyModel<-lme(\n",
    "    as.formula(paste(col, paste(daily_factors, collapse=\" + \"), sep=\" ~ \")),\n",
    "    method=\"ML\",\n",
    "    data = df,\n",
    "    random = ~1|UID\n",
    "  )\n",
    "  cat(\"\\nRANDOM EFFECT\\n\")\n",
    "  cat(\"AIC:\",AIC(RandomDailyModel),\"BIC:\", BIC(RandomDailyModel),  \"LL:\",RandomDailyModel$logLik, fill = FALSE)\n",
    "\n",
    "  FixedDailyModel<-gls(\n",
    "    as.formula(paste(col, paste(daily_factors, collapse=\" + \"), sep=\" ~ \")), \n",
    "    method=\"ML\",\n",
    "    data = df,\n",
    "  )\n",
    "\n",
    "  cat(\"\\nFixed EFFECT\\n\")\n",
    "  cat(\"AIC:\",AIC(FixedDailyModel),\"BIC:\", BIC(FixedDailyModel),  \"LL:\",FixedDailyModel$logLik, fill = FALSE)\n",
    "\n",
    "  print(anova(FixedDailyModel, RandomDailyModel)$p)\n",
    "  print(r.squaredGLMM(RandomDailyModel))\n",
    "}"
   ]
  },
  {
   "cell_type": "code",
   "execution_count": 9,
   "metadata": {
    "vscode": {
     "languageId": "r"
    }
   },
   "outputs": [
    {
     "name": "stdout",
     "output_type": "stream",
     "text": [
      "\n",
      " BOTH \n",
      "           R2m     R2c\n",
      "[1,] 0.3128957 0.33863\n",
      "\n",
      " WEARABLE_ONLY \n",
      "           R2m       R2c\n",
      "[1,] 0.3119765 0.3371324\n",
      "\n",
      " PHONE_ONLY \n",
      "          R2m      R2c\n",
      "[1,] 0.371879 0.403182\n"
     ]
    },
    {
     "data": {
      "text/html": [
       "<table class=\"dataframe\">\n",
       "<caption>A data.frame: 3 × 6</caption>\n",
       "<thead>\n",
       "\t<tr><th></th><th scope=col>Value</th><th scope=col>p-value</th><th scope=col>Value.1</th><th scope=col>p-value.1</th><th scope=col>Value.2</th><th scope=col>p-value.2</th></tr>\n",
       "\t<tr><th></th><th scope=col>&lt;dbl&gt;</th><th scope=col>&lt;dbl&gt;</th><th scope=col>&lt;dbl&gt;</th><th scope=col>&lt;dbl&gt;</th><th scope=col>&lt;dbl&gt;</th><th scope=col>&lt;dbl&gt;</th></tr>\n",
       "</thead>\n",
       "<tbody>\n",
       "\t<tr><th scope=row>(Intercept)</th><td> 0.9124790</td><td>0.000000e+00</td><td> 0.03374373</td><td>2.561455e-05</td><td> 0.05382183</td><td>3.644037e-04</td></tr>\n",
       "\t<tr><th scope=row>OVERALL_PHONE_ONLY</th><td>-0.9534216</td><td>7.964695e-49</td><td>-0.05219696</td><td>1.055734e-02</td><td> 1.00560728</td><td>1.765095e-48</td></tr>\n",
       "\t<tr><th scope=row>OVERALL_WEARABLE_ONLY</th><td>-0.8954138</td><td>2.167251e-25</td><td> 0.90164191</td><td>1.714835e-45</td><td>-0.00645028</td><td>9.255100e-01</td></tr>\n",
       "</tbody>\n",
       "</table>\n"
      ],
      "text/latex": [
       "A data.frame: 3 × 6\n",
       "\\begin{tabular}{r|llllll}\n",
       "  & Value & p-value & Value.1 & p-value.1 & Value.2 & p-value.2\\\\\n",
       "  & <dbl> & <dbl> & <dbl> & <dbl> & <dbl> & <dbl>\\\\\n",
       "\\hline\n",
       "\t(Intercept) &  0.9124790 & 0.000000e+00 &  0.03374373 & 2.561455e-05 &  0.05382183 & 3.644037e-04\\\\\n",
       "\tOVERALL\\_PHONE\\_ONLY & -0.9534216 & 7.964695e-49 & -0.05219696 & 1.055734e-02 &  1.00560728 & 1.765095e-48\\\\\n",
       "\tOVERALL\\_WEARABLE\\_ONLY & -0.8954138 & 2.167251e-25 &  0.90164191 & 1.714835e-45 & -0.00645028 & 9.255100e-01\\\\\n",
       "\\end{tabular}\n"
      ],
      "text/markdown": [
       "\n",
       "A data.frame: 3 × 6\n",
       "\n",
       "| <!--/--> | Value &lt;dbl&gt; | p-value &lt;dbl&gt; | Value.1 &lt;dbl&gt; | p-value.1 &lt;dbl&gt; | Value.2 &lt;dbl&gt; | p-value.2 &lt;dbl&gt; |\n",
       "|---|---|---|---|---|---|---|\n",
       "| (Intercept) |  0.9124790 | 0.000000e+00 |  0.03374373 | 2.561455e-05 |  0.05382183 | 3.644037e-04 |\n",
       "| OVERALL_PHONE_ONLY | -0.9534216 | 7.964695e-49 | -0.05219696 | 1.055734e-02 |  1.00560728 | 1.765095e-48 |\n",
       "| OVERALL_WEARABLE_ONLY | -0.8954138 | 2.167251e-25 |  0.90164191 | 1.714835e-45 | -0.00645028 | 9.255100e-01 |\n",
       "\n"
      ],
      "text/plain": [
       "                      Value      p-value      Value.1     p-value.1   \n",
       "(Intercept)            0.9124790 0.000000e+00  0.03374373 2.561455e-05\n",
       "OVERALL_PHONE_ONLY    -0.9534216 7.964695e-49 -0.05219696 1.055734e-02\n",
       "OVERALL_WEARABLE_ONLY -0.8954138 2.167251e-25  0.90164191 1.714835e-45\n",
       "                      Value.2     p-value.2   \n",
       "(Intercept)            0.05382183 3.644037e-04\n",
       "OVERALL_PHONE_ONLY     1.00560728 1.765095e-48\n",
       "OVERALL_WEARABLE_ONLY -0.00645028 9.255100e-01"
      ]
     },
     "metadata": {},
     "output_type": "display_data"
    }
   ],
   "source": [
    "dfs = data.frame(number = c(1:3))#Name = do.call(c,append(\"Intercept\",append(individual_factors, daily_factors))))\n",
    "for(col in list(\"BOTH\", \"WEARABLE_ONLY\", \"PHONE_ONLY\")){\n",
    "  cat(\"\\n\",col,\"\\n\")\n",
    "  RandomIntegrateModel<-lme(\n",
    "    as.formula(paste(col, paste(list(\"OVERALL_PHONE_ONLY\",\"OVERALL_WEARABLE_ONLY\"), collapse=\" + \"), sep=\" ~ \")), \n",
    "    method=\"ML\",\n",
    "    data = df,\n",
    "    random = ~1|UID\n",
    "  )  \n",
    "  coef_df=coef(summary(RandomIntegrateModel))[,c(\"Value\",\"p-value\")]\n",
    "\n",
    "  dfs = cbind(dfs, coef_df)\n",
    "  print(r.squaredGLMM(RandomIntegrateModel))\n",
    "}\n",
    "coef_df <- dfs[-c(1)]\n",
    "coef_df"
   ]
  },
  {
   "cell_type": "code",
   "execution_count": null,
   "metadata": {
    "vscode": {
     "languageId": "r"
    }
   },
   "outputs": [
    {
     "name": "stdout",
     "output_type": "stream",
     "text": [
      "\n",
      " BOTH \n",
      "           R2m      R2c\n",
      "[1,] 0.6770281 0.681754\n",
      "\n",
      " WEARABLE_ONLY \n",
      "           R2m      R2c\n",
      "[1,] 0.4216852 0.425597\n",
      "\n",
      " PHONE_ONLY \n",
      "           R2m       R2c\n",
      "[1,] 0.8030131 0.8087255\n"
     ]
    },
    {
     "data": {
      "text/html": [
       "<table class=\"dataframe\">\n",
       "<caption>A data.frame: 17 × 6</caption>\n",
       "<thead>\n",
       "\t<tr><th></th><th scope=col>Value</th><th scope=col>p-value</th><th scope=col>Value.1</th><th scope=col>p-value.1</th><th scope=col>Value.2</th><th scope=col>p-value.2</th></tr>\n",
       "\t<tr><th></th><th scope=col>&lt;dbl&gt;</th><th scope=col>&lt;dbl&gt;</th><th scope=col>&lt;dbl&gt;</th><th scope=col>&lt;dbl&gt;</th><th scope=col>&lt;dbl&gt;</th><th scope=col>&lt;dbl&gt;</th></tr>\n",
       "</thead>\n",
       "<tbody>\n",
       "\t<tr><th scope=row>(Intercept)</th><td> 0.9578023536</td><td>0.000000e+00</td><td> 0.0111545949</td><td>1.892290e-01</td><td> 0.0313636534</td><td>2.865964e-03</td></tr>\n",
       "\t<tr><th scope=row>OVERALL_PHONE_ONLY</th><td>-0.3131654576</td><td>1.400641e-23</td><td> 0.0749903629</td><td>2.161173e-05</td><td> 0.2343319030</td><td>6.211096e-19</td></tr>\n",
       "\t<tr><th scope=row>OVERALL_WEARABLE_ONLY</th><td>-0.7035549814</td><td>6.238542e-34</td><td> 0.7892313287</td><td>1.419528e-51</td><td>-0.0838947898</td><td>1.823922e-02</td></tr>\n",
       "\t<tr><th scope=row>AVG_DAILY_STEP</th><td>-0.0105101894</td><td>1.100423e-01</td><td> 0.0047107313</td><td>3.084772e-01</td><td> 0.0062826918</td><td>2.844190e-01</td></tr>\n",
       "\t<tr><th scope=row>SD_DAILY_STEP</th><td>-0.0033602405</td><td>5.586309e-01</td><td> 0.0089010656</td><td>2.661112e-02</td><td>-0.0061327942</td><td>2.464500e-01</td></tr>\n",
       "\t<tr><th scope=row>factor(GENDER)M</th><td>-0.0009165348</td><td>9.156767e-01</td><td> 0.0008956084</td><td>8.810322e-01</td><td> 0.0001883116</td><td>9.811029e-01</td></tr>\n",
       "\t<tr><th scope=row>AGE</th><td>-0.0036900240</td><td>3.771722e-01</td><td>-0.0015196194</td><td>5.995545e-01</td><td> 0.0053261301</td><td>1.647282e-01</td></tr>\n",
       "\t<tr><th scope=row>DAILY_STEP</th><td> 0.0302525082</td><td>3.438677e-06</td><td>-0.0499871858</td><td>5.476356e-24</td><td> 0.0207445678</td><td>7.691965e-05</td></tr>\n",
       "\t<tr><th scope=row>factor(WEEKEND)1</th><td>-0.0215372693</td><td>3.719660e-03</td><td> 0.0045630626</td><td>4.198915e-01</td><td> 0.0164749243</td><td>5.303616e-03</td></tr>\n",
       "\t<tr><th scope=row>factor(CLUSTER)BOTH_PHONE_1</th><td>-0.0081101725</td><td>4.889869e-01</td><td> 0.0086764459</td><td>3.266712e-01</td><td>-0.0004421790</td><td>9.626579e-01</td></tr>\n",
       "\t<tr><th scope=row>factor(CLUSTER)BOTH_PHONE_2</th><td>-0.0837930107</td><td>4.667121e-11</td><td> 0.0086841838</td><td>3.624495e-01</td><td> 0.0772107314</td><td>7.577929e-14</td></tr>\n",
       "\t<tr><th scope=row>factor(CLUSTER)BOTH_PHONE_3</th><td>-0.1224168774</td><td>3.385211e-20</td><td>-0.0054848389</td><td>5.814340e-01</td><td> 0.1280584684</td><td>1.685622e-32</td></tr>\n",
       "\t<tr><th scope=row>factor(CLUSTER)PHONE_DOMINANT</th><td>-0.6336332418</td><td>0.000000e+00</td><td>-0.0835873000</td><td>7.172644e-15</td><td> 0.7184692655</td><td>0.000000e+00</td></tr>\n",
       "\t<tr><th scope=row>factor(CLUSTER)WEARABLE_DOMINANT</th><td>-0.1456357944</td><td>3.000874e-35</td><td> 0.1239412209</td><td>8.934941e-45</td><td> 0.0199800122</td><td>3.478433e-02</td></tr>\n",
       "\t<tr><th scope=row>N_BOUT</th><td> 0.0085944567</td><td>1.053103e-01</td><td> 0.0209756410</td><td>9.935640e-08</td><td>-0.0318080245</td><td>4.571009e-13</td></tr>\n",
       "\t<tr><th scope=row>AVG_BOUT</th><td>-0.0126037338</td><td>8.962728e-02</td><td> 0.0072483366</td><td>1.973281e-01</td><td> 0.0060365743</td><td>3.108519e-01</td></tr>\n",
       "\t<tr><th scope=row>SD_BOUT</th><td> 0.0423929947</td><td>7.492194e-08</td><td> 0.0136893623</td><td>2.082536e-02</td><td>-0.0569149218</td><td>5.336123e-19</td></tr>\n",
       "</tbody>\n",
       "</table>\n"
      ],
      "text/latex": [
       "A data.frame: 17 × 6\n",
       "\\begin{tabular}{r|llllll}\n",
       "  & Value & p-value & Value.1 & p-value.1 & Value.2 & p-value.2\\\\\n",
       "  & <dbl> & <dbl> & <dbl> & <dbl> & <dbl> & <dbl>\\\\\n",
       "\\hline\n",
       "\t(Intercept) &  0.9578023536 & 0.000000e+00 &  0.0111545949 & 1.892290e-01 &  0.0313636534 & 2.865964e-03\\\\\n",
       "\tOVERALL\\_PHONE\\_ONLY & -0.3131654576 & 1.400641e-23 &  0.0749903629 & 2.161173e-05 &  0.2343319030 & 6.211096e-19\\\\\n",
       "\tOVERALL\\_WEARABLE\\_ONLY & -0.7035549814 & 6.238542e-34 &  0.7892313287 & 1.419528e-51 & -0.0838947898 & 1.823922e-02\\\\\n",
       "\tAVG\\_DAILY\\_STEP & -0.0105101894 & 1.100423e-01 &  0.0047107313 & 3.084772e-01 &  0.0062826918 & 2.844190e-01\\\\\n",
       "\tSD\\_DAILY\\_STEP & -0.0033602405 & 5.586309e-01 &  0.0089010656 & 2.661112e-02 & -0.0061327942 & 2.464500e-01\\\\\n",
       "\tfactor(GENDER)M & -0.0009165348 & 9.156767e-01 &  0.0008956084 & 8.810322e-01 &  0.0001883116 & 9.811029e-01\\\\\n",
       "\tAGE & -0.0036900240 & 3.771722e-01 & -0.0015196194 & 5.995545e-01 &  0.0053261301 & 1.647282e-01\\\\\n",
       "\tDAILY\\_STEP &  0.0302525082 & 3.438677e-06 & -0.0499871858 & 5.476356e-24 &  0.0207445678 & 7.691965e-05\\\\\n",
       "\tfactor(WEEKEND)1 & -0.0215372693 & 3.719660e-03 &  0.0045630626 & 4.198915e-01 &  0.0164749243 & 5.303616e-03\\\\\n",
       "\tfactor(CLUSTER)BOTH\\_PHONE\\_1 & -0.0081101725 & 4.889869e-01 &  0.0086764459 & 3.266712e-01 & -0.0004421790 & 9.626579e-01\\\\\n",
       "\tfactor(CLUSTER)BOTH\\_PHONE\\_2 & -0.0837930107 & 4.667121e-11 &  0.0086841838 & 3.624495e-01 &  0.0772107314 & 7.577929e-14\\\\\n",
       "\tfactor(CLUSTER)BOTH\\_PHONE\\_3 & -0.1224168774 & 3.385211e-20 & -0.0054848389 & 5.814340e-01 &  0.1280584684 & 1.685622e-32\\\\\n",
       "\tfactor(CLUSTER)PHONE\\_DOMINANT & -0.6336332418 & 0.000000e+00 & -0.0835873000 & 7.172644e-15 &  0.7184692655 & 0.000000e+00\\\\\n",
       "\tfactor(CLUSTER)WEARABLE\\_DOMINANT & -0.1456357944 & 3.000874e-35 &  0.1239412209 & 8.934941e-45 &  0.0199800122 & 3.478433e-02\\\\\n",
       "\tN\\_BOUT &  0.0085944567 & 1.053103e-01 &  0.0209756410 & 9.935640e-08 & -0.0318080245 & 4.571009e-13\\\\\n",
       "\tAVG\\_BOUT & -0.0126037338 & 8.962728e-02 &  0.0072483366 & 1.973281e-01 &  0.0060365743 & 3.108519e-01\\\\\n",
       "\tSD\\_BOUT &  0.0423929947 & 7.492194e-08 &  0.0136893623 & 2.082536e-02 & -0.0569149218 & 5.336123e-19\\\\\n",
       "\\end{tabular}\n"
      ],
      "text/markdown": [
       "\n",
       "A data.frame: 17 × 6\n",
       "\n",
       "| <!--/--> | Value &lt;dbl&gt; | p-value &lt;dbl&gt; | Value.1 &lt;dbl&gt; | p-value.1 &lt;dbl&gt; | Value.2 &lt;dbl&gt; | p-value.2 &lt;dbl&gt; |\n",
       "|---|---|---|---|---|---|---|\n",
       "| (Intercept) |  0.9578023536 | 0.000000e+00 |  0.0111545949 | 1.892290e-01 |  0.0313636534 | 2.865964e-03 |\n",
       "| OVERALL_PHONE_ONLY | -0.3131654576 | 1.400641e-23 |  0.0749903629 | 2.161173e-05 |  0.2343319030 | 6.211096e-19 |\n",
       "| OVERALL_WEARABLE_ONLY | -0.7035549814 | 6.238542e-34 |  0.7892313287 | 1.419528e-51 | -0.0838947898 | 1.823922e-02 |\n",
       "| AVG_DAILY_STEP | -0.0105101894 | 1.100423e-01 |  0.0047107313 | 3.084772e-01 |  0.0062826918 | 2.844190e-01 |\n",
       "| SD_DAILY_STEP | -0.0033602405 | 5.586309e-01 |  0.0089010656 | 2.661112e-02 | -0.0061327942 | 2.464500e-01 |\n",
       "| factor(GENDER)M | -0.0009165348 | 9.156767e-01 |  0.0008956084 | 8.810322e-01 |  0.0001883116 | 9.811029e-01 |\n",
       "| AGE | -0.0036900240 | 3.771722e-01 | -0.0015196194 | 5.995545e-01 |  0.0053261301 | 1.647282e-01 |\n",
       "| DAILY_STEP |  0.0302525082 | 3.438677e-06 | -0.0499871858 | 5.476356e-24 |  0.0207445678 | 7.691965e-05 |\n",
       "| factor(WEEKEND)1 | -0.0215372693 | 3.719660e-03 |  0.0045630626 | 4.198915e-01 |  0.0164749243 | 5.303616e-03 |\n",
       "| factor(CLUSTER)BOTH_PHONE_1 | -0.0081101725 | 4.889869e-01 |  0.0086764459 | 3.266712e-01 | -0.0004421790 | 9.626579e-01 |\n",
       "| factor(CLUSTER)BOTH_PHONE_2 | -0.0837930107 | 4.667121e-11 |  0.0086841838 | 3.624495e-01 |  0.0772107314 | 7.577929e-14 |\n",
       "| factor(CLUSTER)BOTH_PHONE_3 | -0.1224168774 | 3.385211e-20 | -0.0054848389 | 5.814340e-01 |  0.1280584684 | 1.685622e-32 |\n",
       "| factor(CLUSTER)PHONE_DOMINANT | -0.6336332418 | 0.000000e+00 | -0.0835873000 | 7.172644e-15 |  0.7184692655 | 0.000000e+00 |\n",
       "| factor(CLUSTER)WEARABLE_DOMINANT | -0.1456357944 | 3.000874e-35 |  0.1239412209 | 8.934941e-45 |  0.0199800122 | 3.478433e-02 |\n",
       "| N_BOUT |  0.0085944567 | 1.053103e-01 |  0.0209756410 | 9.935640e-08 | -0.0318080245 | 4.571009e-13 |\n",
       "| AVG_BOUT | -0.0126037338 | 8.962728e-02 |  0.0072483366 | 1.973281e-01 |  0.0060365743 | 3.108519e-01 |\n",
       "| SD_BOUT |  0.0423929947 | 7.492194e-08 |  0.0136893623 | 2.082536e-02 | -0.0569149218 | 5.336123e-19 |\n",
       "\n"
      ],
      "text/plain": [
       "                                 Value         p-value      Value.1      \n",
       "(Intercept)                       0.9578023536 0.000000e+00  0.0111545949\n",
       "OVERALL_PHONE_ONLY               -0.3131654576 1.400641e-23  0.0749903629\n",
       "OVERALL_WEARABLE_ONLY            -0.7035549814 6.238542e-34  0.7892313287\n",
       "AVG_DAILY_STEP                   -0.0105101894 1.100423e-01  0.0047107313\n",
       "SD_DAILY_STEP                    -0.0033602405 5.586309e-01  0.0089010656\n",
       "factor(GENDER)M                  -0.0009165348 9.156767e-01  0.0008956084\n",
       "AGE                              -0.0036900240 3.771722e-01 -0.0015196194\n",
       "DAILY_STEP                        0.0302525082 3.438677e-06 -0.0499871858\n",
       "factor(WEEKEND)1                 -0.0215372693 3.719660e-03  0.0045630626\n",
       "factor(CLUSTER)BOTH_PHONE_1      -0.0081101725 4.889869e-01  0.0086764459\n",
       "factor(CLUSTER)BOTH_PHONE_2      -0.0837930107 4.667121e-11  0.0086841838\n",
       "factor(CLUSTER)BOTH_PHONE_3      -0.1224168774 3.385211e-20 -0.0054848389\n",
       "factor(CLUSTER)PHONE_DOMINANT    -0.6336332418 0.000000e+00 -0.0835873000\n",
       "factor(CLUSTER)WEARABLE_DOMINANT -0.1456357944 3.000874e-35  0.1239412209\n",
       "N_BOUT                            0.0085944567 1.053103e-01  0.0209756410\n",
       "AVG_BOUT                         -0.0126037338 8.962728e-02  0.0072483366\n",
       "SD_BOUT                           0.0423929947 7.492194e-08  0.0136893623\n",
       "                                 p-value.1    Value.2       p-value.2   \n",
       "(Intercept)                      1.892290e-01  0.0313636534 2.865964e-03\n",
       "OVERALL_PHONE_ONLY               2.161173e-05  0.2343319030 6.211096e-19\n",
       "OVERALL_WEARABLE_ONLY            1.419528e-51 -0.0838947898 1.823922e-02\n",
       "AVG_DAILY_STEP                   3.084772e-01  0.0062826918 2.844190e-01\n",
       "SD_DAILY_STEP                    2.661112e-02 -0.0061327942 2.464500e-01\n",
       "factor(GENDER)M                  8.810322e-01  0.0001883116 9.811029e-01\n",
       "AGE                              5.995545e-01  0.0053261301 1.647282e-01\n",
       "DAILY_STEP                       5.476356e-24  0.0207445678 7.691965e-05\n",
       "factor(WEEKEND)1                 4.198915e-01  0.0164749243 5.303616e-03\n",
       "factor(CLUSTER)BOTH_PHONE_1      3.266712e-01 -0.0004421790 9.626579e-01\n",
       "factor(CLUSTER)BOTH_PHONE_2      3.624495e-01  0.0772107314 7.577929e-14\n",
       "factor(CLUSTER)BOTH_PHONE_3      5.814340e-01  0.1280584684 1.685622e-32\n",
       "factor(CLUSTER)PHONE_DOMINANT    7.172644e-15  0.7184692655 0.000000e+00\n",
       "factor(CLUSTER)WEARABLE_DOMINANT 8.934941e-45  0.0199800122 3.478433e-02\n",
       "N_BOUT                           9.935640e-08 -0.0318080245 4.571009e-13\n",
       "AVG_BOUT                         1.973281e-01  0.0060365743 3.108519e-01\n",
       "SD_BOUT                          2.082536e-02 -0.0569149218 5.336123e-19"
      ]
     },
     "metadata": {},
     "output_type": "display_data"
    }
   ],
   "source": [
    "dfs = data.frame(number = c(1:17))#Name = do.call(c,append(\"Intercept\",append(individual_factors, daily_factors))))\n",
    "for(col in list(\"BOTH\", \"WEARABLE_ONLY\", \"PHONE_ONLY\")){\n",
    "  cat(\"\\n\",col,\"\\n\")\n",
    "  RandomIntegrateModel<-lme(\n",
    "    as.formula(paste(col, paste(append(individual_factors,daily_factors), collapse=\" + \"), sep=\" ~ \")), \n",
    "    method=\"ML\",\n",
    "    data = df,\n",
    "    random = ~1|UID\n",
    "  )  \n",
    "  coef_df=coef(summary(RandomIntegrateModel))[,c(\"Value\",\"p-value\")]\n",
    "\n",
    "  dfs = cbind(dfs, coef_df)\n",
    "  print(r.squaredGLMM(RandomIntegrateModel))\n",
    "}\n",
    "coef_df <- dfs[-c(1)]\n",
    "coef_df"
   ]
  }
 ],
 "metadata": {
  "kernelspec": {
   "display_name": "R",
   "language": "R",
   "name": "ir"
  },
  "language_info": {
   "codemirror_mode": "r",
   "file_extension": ".r",
   "mimetype": "text/x-r-source",
   "name": "R",
   "pygments_lexer": "r",
   "version": "4.1.2"
  },
  "orig_nbformat": 4
 },
 "nbformat": 4,
 "nbformat_minor": 2
}
